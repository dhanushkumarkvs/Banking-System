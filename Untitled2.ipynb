{
  "nbformat": 4,
  "nbformat_minor": 0,
  "metadata": {
    "colab": {
      "provenance": [],
      "authorship_tag": "ABX9TyNlDD2UX++6qcHZ1Zk9LMQR",
      "include_colab_link": true
    },
    "kernelspec": {
      "name": "python3",
      "display_name": "Python 3"
    },
    "language_info": {
      "name": "python"
    }
  },
  "cells": [
    {
      "cell_type": "markdown",
      "metadata": {
        "id": "view-in-github",
        "colab_type": "text"
      },
      "source": [
        "<a href=\"https://colab.research.google.com/github/dhanushkumarkvs/Banking-System/blob/main/Untitled2.ipynb\" target=\"_parent\"><img src=\"https://colab.research.google.com/assets/colab-badge.svg\" alt=\"Open In Colab\"/></a>"
      ]
    },
    {
      "cell_type": "code",
      "execution_count": null,
      "metadata": {
        "id": "RIKbf-9_vxS3"
      },
      "outputs": [],
      "source": [
        "import pandas as pd\n",
        "import csv\n",
        "Fields=['sid','sname','sbranch']\n",
        "rows=[['1','dhanush','cse'],['2','kumar','aids'],['3','ramu','it']]\n",
        "filename=\"std.csv\"\n",
        "with open(filename,'w') as csvfile:\n",
        "  csvwriter=csv.writer(csvfile)\n",
        "  csvwriter=writerows\n",
        "  csvwriter=\n"
      ]
    }
  ]
}